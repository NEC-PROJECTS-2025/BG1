{
  "nbformat": 4,
  "nbformat_minor": 0,
  "metadata": {
    "colab": {
      "provenance": [],
      "gpuType": "T4"
    },
    "kernelspec": {
      "name": "python3",
      "display_name": "Python 3"
    },
    "language_info": {
      "name": "python"
    },
    "accelerator": "GPU"
  },
  "cells": [
    {
      "cell_type": "markdown",
      "source": [
        "# **VGG16 adam with 0.5 dropout 64.74**"
      ],
      "metadata": {
        "id": "w5WcIoI3C70J"
      }
    },
    {
      "cell_type": "code",
      "source": [
        "from google.colab import drive\n",
        "drive.mount('/content/drive')"
      ],
      "metadata": {
        "colab": {
          "base_uri": "https://localhost:8080/"
        },
        "id": "c3edzCe7BtzG",
        "outputId": "848982b3-71d0-477b-ebe6-c811ed905607"
      },
      "execution_count": null,
      "outputs": [
        {
          "output_type": "stream",
          "name": "stdout",
          "text": [
            "Mounted at /content/drive\n"
          ]
        }
      ]
    },
    {
      "cell_type": "code",
      "source": [
        "import tensorflow as tf\n",
        "from tensorflow.keras.preprocessing.image import ImageDataGenerator\n",
        "from tensorflow.keras.applications import VGG16\n",
        "from tensorflow.keras.layers import Dense, GlobalAveragePooling2D, Dropout\n",
        "from tensorflow.keras.models import Model\n",
        "from tensorflow.keras.callbacks import ReduceLROnPlateau, EarlyStopping, ModelCheckpoint"
      ],
      "metadata": {
        "id": "p_IUGQRVwJgi"
      },
      "execution_count": null,
      "outputs": []
    },
    {
      "cell_type": "code",
      "source": [
        "# Paths to your dataset\n",
        "train_dir = '/content/drive/MyDrive/train'  # Update with your path to training data\n",
        "test_dir = '/content/drive/MyDrive/test'    # Update with your path to test data"
      ],
      "metadata": {
        "id": "rvi5LDJzwJU2"
      },
      "execution_count": null,
      "outputs": []
    },
    {
      "cell_type": "code",
      "source": [
        "# ImageDataGenerator for data augmentation and normalization\n",
        "train_datagen = ImageDataGenerator(\n",
        "    rescale=1./255,\n",
        "    rotation_range=40,\n",
        "    width_shift_range=0.2,\n",
        "    height_shift_range=0.2,\n",
        "    shear_range=0.2,\n",
        "    zoom_range=0.2,\n",
        "    horizontal_flip=True,\n",
        "    fill_mode='nearest',\n",
        "    brightness_range=[0.8, 1.2]\n",
        ")\n",
        "\n",
        "test_datagen = ImageDataGenerator(rescale=1./255)"
      ],
      "metadata": {
        "id": "lBQQEW2lwJRY"
      },
      "execution_count": null,
      "outputs": []
    },
    {
      "cell_type": "code",
      "source": [
        "# Flow training images in batches of 32 using train_datagen generator\n",
        "train_generator = train_datagen.flow_from_directory(\n",
        "    train_dir,\n",
        "    target_size=(224, 224),  # Resize images to (224, 224) for VGG16\n",
        "    batch_size=32,\n",
        "    class_mode='binary'  # For binary classification\n",
        ")"
      ],
      "metadata": {
        "colab": {
          "base_uri": "https://localhost:8080/"
        },
        "id": "H1jUySESwJO0",
        "outputId": "14bfb10c-f17e-45fd-c975-6687b130a539"
      },
      "execution_count": null,
      "outputs": [
        {
          "output_type": "stream",
          "name": "stdout",
          "text": [
            "Found 4638 images belonging to 2 classes.\n"
          ]
        }
      ]
    },
    {
      "cell_type": "code",
      "source": [
        "# Flow validation images in batches of 32 using test_datagen generator\n",
        "test_generator = test_datagen.flow_from_directory(\n",
        "    test_dir,\n",
        "    target_size=(224, 224),\n",
        "    batch_size=32,\n",
        "    class_mode='binary'\n",
        ")"
      ],
      "metadata": {
        "colab": {
          "base_uri": "https://localhost:8080/"
        },
        "id": "fesjmKtewJMS",
        "outputId": "270690ee-bb1f-4366-f10f-2f3208910628"
      },
      "execution_count": null,
      "outputs": [
        {
          "output_type": "stream",
          "name": "stdout",
          "text": [
            "Found 1160 images belonging to 2 classes.\n"
          ]
        }
      ]
    },
    {
      "cell_type": "code",
      "source": [
        "# Load VGG16 with pre-trained ImageNet weights, excluding top layers\n",
        "base_model = VGG16(weights='imagenet', include_top=False, input_shape=(224, 224, 3))"
      ],
      "metadata": {
        "colab": {
          "base_uri": "https://localhost:8080/"
        },
        "id": "C4pjG7UKwJJx",
        "outputId": "d39c1d5a-89e1-4f7c-bf94-a9040b5915d0",
        "collapsed": true
      },
      "execution_count": null,
      "outputs": [
        {
          "output_type": "stream",
          "name": "stdout",
          "text": [
            "Downloading data from https://storage.googleapis.com/tensorflow/keras-applications/vgg16/vgg16_weights_tf_dim_ordering_tf_kernels_notop.h5\n",
            "\u001b[1m58889256/58889256\u001b[0m \u001b[32m━━━━━━━━━━━━━━━━━━━━\u001b[0m\u001b[37m\u001b[0m \u001b[1m0s\u001b[0m 0us/step\n"
          ]
        }
      ]
    },
    {
      "cell_type": "code",
      "source": [
        "# Add custom top layers for binary classification\n",
        "x = base_model.output\n",
        "x = GlobalAveragePooling2D()(x)\n",
        "x = Dense(1024, activation='relu', kernel_regularizer=tf.keras.regularizers.l2(0.001))(x)\n",
        "x = Dropout(0.5)(x)\n",
        "predictions = Dense(1, activation='sigmoid')(x)"
      ],
      "metadata": {
        "id": "ROdC4N63wU-3"
      },
      "execution_count": null,
      "outputs": []
    },
    {
      "cell_type": "code",
      "source": [
        "# Combine base model and top layers into new model\n",
        "model = Model(inputs=base_model.input, outputs=predictions)"
      ],
      "metadata": {
        "id": "qKgKltEzwU7f"
      },
      "execution_count": null,
      "outputs": []
    },
    {
      "cell_type": "code",
      "source": [
        "# Freeze all layers of the base model (only train top layers)\n",
        "for layer in base_model.layers:\n",
        "    layer.trainable = False"
      ],
      "metadata": {
        "id": "qvVZwF9OwU5c"
      },
      "execution_count": null,
      "outputs": []
    },
    {
      "cell_type": "code",
      "source": [
        "# Compile the model with Adam optimizer and a learning rate of 0.001\n",
        "optimizer = tf.keras.optimizers.Adam(learning_rate=0.001)\n",
        "model.compile(optimizer=optimizer, loss='binary_crossentropy', metrics=['accuracy'])"
      ],
      "metadata": {
        "id": "ykq4r-WZwU2z"
      },
      "execution_count": null,
      "outputs": []
    },
    {
      "cell_type": "code",
      "source": [
        "# Callbacks for learning rate reduction, early stopping, and model checkpoint\n",
        "reduce_lr = ReduceLROnPlateau(monitor='val_loss', factor=0.2, patience=3, min_lr=1e-7)\n",
        "early_stopping = EarlyStopping(monitor='val_loss', patience=10, restore_best_weights=True)\n",
        "model_checkpoint = ModelCheckpoint('/content/vgg16_bully_classifier_best.keras', monitor='val_loss', save_best_only=True)"
      ],
      "metadata": {
        "id": "JPreUCYxwU0k"
      },
      "execution_count": null,
      "outputs": []
    },
    {
      "cell_type": "code",
      "source": [
        "# Train the model on the data\n",
        "history = model.fit(\n",
        "    train_generator,\n",
        "    steps_per_epoch=train_generator.samples // train_generator.batch_size,\n",
        "    epochs=40,  # Initial training epochs\n",
        "    validation_data=test_generator,\n",
        "    validation_steps=test_generator.samples // test_generator.batch_size,\n",
        "    callbacks=[reduce_lr, early_stopping, model_checkpoint]\n",
        ")"
      ],
      "metadata": {
        "colab": {
          "base_uri": "https://localhost:8080/"
        },
        "id": "-xFoLHTqwiVG",
        "outputId": "10c68429-6cb7-4cfa-b8d5-bbe67883aabb",
        "collapsed": true
      },
      "execution_count": null,
      "outputs": [
        {
          "output_type": "stream",
          "name": "stdout",
          "text": [
            "Epoch 1/40\n",
            "\u001b[1m144/144\u001b[0m \u001b[32m━━━━━━━━━━━━━━━━━━━━\u001b[0m\u001b[37m\u001b[0m \u001b[1m111s\u001b[0m 744ms/step - accuracy: 0.6692 - loss: 0.6995 - val_accuracy: 0.6519 - val_loss: 0.7253 - learning_rate: 1.0000e-07\n",
            "Epoch 2/40\n",
            "\u001b[1m144/144\u001b[0m \u001b[32m━━━━━━━━━━━━━━━━━━━━\u001b[0m\u001b[37m\u001b[0m \u001b[1m5s\u001b[0m 28ms/step - accuracy: 0.6562 - loss: 0.7493 - val_accuracy: 1.0000 - val_loss: 0.4863 - learning_rate: 1.0000e-07\n",
            "Epoch 3/40\n",
            "\u001b[1m144/144\u001b[0m \u001b[32m━━━━━━━━━━━━━━━━━━━━\u001b[0m\u001b[37m\u001b[0m \u001b[1m111s\u001b[0m 742ms/step - accuracy: 0.6843 - loss: 0.6891 - val_accuracy: 0.6528 - val_loss: 0.7250 - learning_rate: 1.0000e-07\n",
            "Epoch 4/40\n",
            "\u001b[1m144/144\u001b[0m \u001b[32m━━━━━━━━━━━━━━━━━━━━\u001b[0m\u001b[37m\u001b[0m \u001b[1m1s\u001b[0m 430us/step - accuracy: 0.6875 - loss: 0.6951 - val_accuracy: 1.0000 - val_loss: 0.5125 - learning_rate: 1.0000e-07\n",
            "Epoch 5/40\n",
            "\u001b[1m143/144\u001b[0m \u001b[32m━━━━━━━━━━━━━━━━━━━\u001b[0m\u001b[37m━\u001b[0m \u001b[1m0s\u001b[0m 704ms/step - accuracy: 0.6619 - loss: 0.7020"
          ]
        }
      ]
    },
    {
      "cell_type": "code",
      "source": [
        "# Unfreeze some of the top layers of the base model for fine-tuning\n",
        "for layer in base_model.layers[-100:]:  # Unfreeze the last 50 layers\n",
        "    layer.trainable = True"
      ],
      "metadata": {
        "id": "sheA0687wiRv"
      },
      "execution_count": null,
      "outputs": []
    },
    {
      "cell_type": "code",
      "source": [
        "# Recompile the model with a lower learning rate for fine-tuning\n",
        "optimizer_fine = tf.keras.optimizers.Adam(learning_rate=1e-5)\n",
        "model.compile(optimizer=optimizer_fine, loss='binary_crossentropy', metrics=['accuracy'])"
      ],
      "metadata": {
        "id": "-OWg8guzwlcz"
      },
      "execution_count": null,
      "outputs": []
    },
    {
      "cell_type": "code",
      "source": [
        "# Continue training the model for fine-tuning\n",
        "history_fine = model.fit(\n",
        "    train_generator,\n",
        "    steps_per_epoch=train_generator.samples // train_generator.batch_size,\n",
        "    epochs=40,  # Additional fine-tuning epochs\n",
        "    validation_data=test_generator,\n",
        "    validation_steps=test_generator.samples // test_generator.batch_size,\n",
        "    callbacks=[reduce_lr, early_stopping, model_checkpoint]\n",
        ")"
      ],
      "metadata": {
        "colab": {
          "base_uri": "https://localhost:8080/"
        },
        "id": "C3V5KHz2wlat",
        "outputId": "85584c23-2c73-4489-e249-6c677a3a022c"
      },
      "execution_count": null,
      "outputs": [
        {
          "output_type": "stream",
          "name": "stdout",
          "text": [
            "Epoch 1/40\n",
            "\u001b[1m144/144\u001b[0m \u001b[32m━━━━━━━━━━━━━━━━━━━━\u001b[0m\u001b[37m\u001b[0m \u001b[1m149s\u001b[0m 1s/step - accuracy: 0.5842 - loss: 0.7863 - val_accuracy: 0.6137 - val_loss: 0.7561 - learning_rate: 1.0000e-05\n",
            "Epoch 2/40\n",
            "\u001b[1m144/144\u001b[0m \u001b[32m━━━━━━━━━━━━━━━━━━━━\u001b[0m\u001b[37m\u001b[0m \u001b[1m1s\u001b[0m 473us/step - accuracy: 0.5938 - loss: 0.7466 - val_accuracy: 0.5000 - val_loss: 0.7549 - learning_rate: 1.0000e-05\n",
            "Epoch 3/40\n",
            "\u001b[1m144/144\u001b[0m \u001b[32m━━━━━━━━━━━━━━━━━━━━\u001b[0m\u001b[37m\u001b[0m \u001b[1m111s\u001b[0m 743ms/step - accuracy: 0.6103 - loss: 0.7597 - val_accuracy: 0.6311 - val_loss: 0.7499 - learning_rate: 1.0000e-05\n",
            "Epoch 4/40\n",
            "\u001b[1m144/144\u001b[0m \u001b[32m━━━━━━━━━━━━━━━━━━━━\u001b[0m\u001b[37m\u001b[0m \u001b[1m2s\u001b[0m 7ms/step - accuracy: 0.7812 - loss: 0.6689 - val_accuracy: 0.7500 - val_loss: 0.6637 - learning_rate: 1.0000e-05\n",
            "Epoch 5/40\n",
            "\u001b[1m144/144\u001b[0m \u001b[32m━━━━━━━━━━━━━━━━━━━━\u001b[0m\u001b[37m\u001b[0m \u001b[1m111s\u001b[0m 740ms/step - accuracy: 0.6139 - loss: 0.7501 - val_accuracy: 0.6215 - val_loss: 0.7414 - learning_rate: 1.0000e-05\n",
            "Epoch 6/40\n",
            "\u001b[1m144/144\u001b[0m \u001b[32m━━━━━━━━━━━━━━━━━━━━\u001b[0m\u001b[37m\u001b[0m \u001b[1m2s\u001b[0m 11ms/step - accuracy: 0.5938 - loss: 0.7748 - val_accuracy: 0.7500 - val_loss: 0.6512 - learning_rate: 1.0000e-05\n",
            "Epoch 7/40\n",
            "\u001b[1m144/144\u001b[0m \u001b[32m━━━━━━━━━━━━━━━━━━━━\u001b[0m\u001b[37m\u001b[0m \u001b[1m140s\u001b[0m 743ms/step - accuracy: 0.6433 - loss: 0.7312 - val_accuracy: 0.6493 - val_loss: 0.7338 - learning_rate: 1.0000e-05\n",
            "Epoch 8/40\n",
            "\u001b[1m144/144\u001b[0m \u001b[32m━━━━━━━━━━━━━━━━━━━━\u001b[0m\u001b[37m\u001b[0m \u001b[1m1s\u001b[0m 433us/step - accuracy: 0.4688 - loss: 0.8160 - val_accuracy: 0.7500 - val_loss: 0.6947 - learning_rate: 1.0000e-05\n",
            "Epoch 9/40\n",
            "\u001b[1m144/144\u001b[0m \u001b[32m━━━━━━━━━━━━━━━━━━━━\u001b[0m\u001b[37m\u001b[0m \u001b[1m112s\u001b[0m 752ms/step - accuracy: 0.6498 - loss: 0.7215 - val_accuracy: 0.6467 - val_loss: 0.7333 - learning_rate: 1.0000e-05\n",
            "Epoch 10/40\n",
            "\u001b[1m144/144\u001b[0m \u001b[32m━━━━━━━━━━━━━━━━━━━━\u001b[0m\u001b[37m\u001b[0m \u001b[1m1s\u001b[0m 401us/step - accuracy: 0.6875 - loss: 0.7340 - val_accuracy: 0.5000 - val_loss: 0.7473 - learning_rate: 2.0000e-06\n",
            "Epoch 11/40\n",
            "\u001b[1m144/144\u001b[0m \u001b[32m━━━━━━━━━━━━━━━━━━━━\u001b[0m\u001b[37m\u001b[0m \u001b[1m112s\u001b[0m 754ms/step - accuracy: 0.6710 - loss: 0.7045 - val_accuracy: 0.6432 - val_loss: 0.7274 - learning_rate: 2.0000e-06\n",
            "Epoch 12/40\n",
            "\u001b[1m144/144\u001b[0m \u001b[32m━━━━━━━━━━━━━━━━━━━━\u001b[0m\u001b[37m\u001b[0m \u001b[1m2s\u001b[0m 7ms/step - accuracy: 0.7188 - loss: 0.7590 - val_accuracy: 0.7500 - val_loss: 0.5807 - learning_rate: 2.0000e-06\n",
            "Epoch 13/40\n",
            "\u001b[1m144/144\u001b[0m \u001b[32m━━━━━━━━━━━━━━━━━━━━\u001b[0m\u001b[37m\u001b[0m \u001b[1m112s\u001b[0m 751ms/step - accuracy: 0.6752 - loss: 0.7014 - val_accuracy: 0.6519 - val_loss: 0.7230 - learning_rate: 2.0000e-06\n",
            "Epoch 14/40\n",
            "\u001b[1m144/144\u001b[0m \u001b[32m━━━━━━━━━━━━━━━━━━━━\u001b[0m\u001b[37m\u001b[0m \u001b[1m1s\u001b[0m 514us/step - accuracy: 0.7188 - loss: 0.6666 - val_accuracy: 0.7500 - val_loss: 0.6458 - learning_rate: 2.0000e-06\n",
            "Epoch 15/40\n",
            "\u001b[1m144/144\u001b[0m \u001b[32m━━━━━━━━━━━━━━━━━━━━\u001b[0m\u001b[37m\u001b[0m \u001b[1m142s\u001b[0m 748ms/step - accuracy: 0.6916 - loss: 0.6872 - val_accuracy: 0.6554 - val_loss: 0.7220 - learning_rate: 2.0000e-06\n",
            "Epoch 16/40\n",
            "\u001b[1m144/144\u001b[0m \u001b[32m━━━━━━━━━━━━━━━━━━━━\u001b[0m\u001b[37m\u001b[0m \u001b[1m1s\u001b[0m 455us/step - accuracy: 0.6875 - loss: 0.7228 - val_accuracy: 0.5000 - val_loss: 0.6200 - learning_rate: 4.0000e-07\n",
            "Epoch 17/40\n",
            "\u001b[1m144/144\u001b[0m \u001b[32m━━━━━━━━━━━━━━━━━━━━\u001b[0m\u001b[37m\u001b[0m \u001b[1m112s\u001b[0m 755ms/step - accuracy: 0.6842 - loss: 0.6857 - val_accuracy: 0.6545 - val_loss: 0.7216 - learning_rate: 4.0000e-07\n",
            "Epoch 18/40\n",
            "\u001b[1m144/144\u001b[0m \u001b[32m━━━━━━━━━━━━━━━━━━━━\u001b[0m\u001b[37m\u001b[0m \u001b[1m1s\u001b[0m 445us/step - accuracy: 0.8125 - loss: 0.5934 - val_accuracy: 0.5000 - val_loss: 0.7231 - learning_rate: 4.0000e-07\n",
            "Epoch 19/40\n",
            "\u001b[1m144/144\u001b[0m \u001b[32m━━━━━━━━━━━━━━━━━━━━\u001b[0m\u001b[37m\u001b[0m \u001b[1m111s\u001b[0m 748ms/step - accuracy: 0.6916 - loss: 0.6887 - val_accuracy: 0.6528 - val_loss: 0.7216 - learning_rate: 1.0000e-07\n",
            "Epoch 20/40\n",
            "\u001b[1m144/144\u001b[0m \u001b[32m━━━━━━━━━━━━━━━━━━━━\u001b[0m\u001b[37m\u001b[0m \u001b[1m5s\u001b[0m 32ms/step - accuracy: 0.6875 - loss: 0.6378 - val_accuracy: 0.6250 - val_loss: 0.6619 - learning_rate: 1.0000e-07\n",
            "Epoch 21/40\n",
            "\u001b[1m144/144\u001b[0m \u001b[32m━━━━━━━━━━━━━━━━━━━━\u001b[0m\u001b[37m\u001b[0m \u001b[1m113s\u001b[0m 758ms/step - accuracy: 0.6803 - loss: 0.6896 - val_accuracy: 0.6536 - val_loss: 0.7218 - learning_rate: 1.0000e-07\n",
            "Epoch 22/40\n",
            "\u001b[1m144/144\u001b[0m \u001b[32m━━━━━━━━━━━━━━━━━━━━\u001b[0m\u001b[37m\u001b[0m \u001b[1m1s\u001b[0m 455us/step - accuracy: 0.6250 - loss: 0.6944 - val_accuracy: 0.7500 - val_loss: 0.6284 - learning_rate: 1.0000e-07\n"
          ]
        }
      ]
    },
    {
      "cell_type": "code",
      "source": [
        "# Evaluate the model\n",
        "test_loss, test_acc = model.evaluate(test_generator)\n",
        "print(f'Test accuracy: {test_acc}')\n"
      ],
      "metadata": {
        "colab": {
          "base_uri": "https://localhost:8080/"
        },
        "id": "tiXYpO7ywovn",
        "outputId": "15b4e39d-9a45-441b-88ee-f6c1e7471301"
      },
      "execution_count": null,
      "outputs": [
        {
          "output_type": "stream",
          "name": "stdout",
          "text": [
            "\u001b[1m37/37\u001b[0m \u001b[32m━━━━━━━━━━━━━━━━━━━━\u001b[0m\u001b[37m\u001b[0m \u001b[1m6s\u001b[0m 151ms/step - accuracy: 0.5728 - loss: 0.7952\n",
            "Test accuracy: 0.5698275566101074\n"
          ]
        }
      ]
    },
    {
      "cell_type": "code",
      "source": [
        "# Evaluate the model\n",
        "test_loss, test_acc = model.evaluate(test_generator)\n",
        "print(f'Test accuracy: {test_acc}')"
      ],
      "metadata": {
        "colab": {
          "base_uri": "https://localhost:8080/"
        },
        "id": "QDCJuEAhPm2H",
        "outputId": "4c87f486-f222-4f9e-b01a-58a0f617dfa7"
      },
      "execution_count": null,
      "outputs": [
        {
          "output_type": "stream",
          "name": "stdout",
          "text": [
            "\u001b[1m37/37\u001b[0m \u001b[32m━━━━━━━━━━━━━━━━━━━━\u001b[0m\u001b[37m\u001b[0m \u001b[1m5s\u001b[0m 133ms/step - accuracy: 0.6359 - loss: 0.7327\n",
            "Test accuracy: 0.6474137902259827\n"
          ]
        }
      ]
    },
    {
      "cell_type": "code",
      "source": [
        "# Evaluate the model\n",
        "train_loss, train_acc = model.evaluate(train_generator)\n",
        "print(f'Train accuracy: {train_acc}')"
      ],
      "metadata": {
        "colab": {
          "base_uri": "https://localhost:8080/"
        },
        "id": "imxu0ANcwqr0",
        "outputId": "d16105ca-9baf-4b9c-9cf6-d603fa0a5856"
      },
      "execution_count": null,
      "outputs": [
        {
          "output_type": "stream",
          "name": "stdout",
          "text": [
            "\u001b[1m145/145\u001b[0m \u001b[32m━━━━━━━━━━━━━━━━━━━━\u001b[0m\u001b[37m\u001b[0m \u001b[1m87s\u001b[0m 596ms/step - accuracy: 0.6835 - loss: 0.6974\n",
            "Train accuracy: 0.6849935054779053\n"
          ]
        }
      ]
    },
    {
      "cell_type": "code",
      "execution_count": null,
      "metadata": {
        "id": "Qjg8tTD-wDQn"
      },
      "outputs": [],
      "source": [
        "# Save the fine-tuned model\n",
        "model.save('/content/drive/MyDrive/FINAL VGG16.keras')\n"
      ]
    },
    {
      "cell_type": "code",
      "source": [
        "import numpy as np\n",
        "from tensorflow.keras.preprocessing import image\n",
        "from tensorflow.keras.models import load_model"
      ],
      "metadata": {
        "id": "HDzNDCQ4DUii"
      },
      "execution_count": null,
      "outputs": []
    },
    {
      "cell_type": "code",
      "source": [
        "import tensorflow as tf\n",
        "model_path = '/content/drive/MyDrive/FINAL VGG16.keras'\n",
        "model = tf.keras.models.load_model(model_path)"
      ],
      "metadata": {
        "id": "hdP9tGqnCCE-",
        "colab": {
          "base_uri": "https://localhost:8080/"
        },
        "outputId": "a6cc379b-a337-469d-a3f7-5e425d90d898"
      },
      "execution_count": null,
      "outputs": [
        {
          "output_type": "stream",
          "name": "stderr",
          "text": [
            "/usr/local/lib/python3.10/dist-packages/keras/src/saving/saving_lib.py:713: UserWarning: Skipping variable loading for optimizer 'rmsprop', because it has 32 variables whereas the saved optimizer has 62 variables. \n",
            "  saveable.load_own_variables(weights_store.get(inner_path))\n"
          ]
        }
      ]
    },
    {
      "cell_type": "code",
      "source": [
        "# Evaluate the model\n",
        "test_loss, test_acc = model.evaluate(test_generator)\n",
        "print(f'Test accuracy: {test_acc}')"
      ],
      "metadata": {
        "colab": {
          "base_uri": "https://localhost:8080/"
        },
        "id": "fLS4p4oqCWuV",
        "outputId": "b376cf56-4ee9-461a-c9bf-7d1c8e81e4da"
      },
      "execution_count": null,
      "outputs": [
        {
          "output_type": "stream",
          "name": "stdout",
          "text": [
            "\u001b[1m37/37\u001b[0m \u001b[32m━━━━━━━━━━━━━━━━━━━━\u001b[0m\u001b[37m\u001b[0m \u001b[1m8s\u001b[0m 175ms/step - accuracy: 0.6440 - loss: 0.7317\n",
            "Test accuracy: 0.6474137902259827\n"
          ]
        }
      ]
    },
    {
      "cell_type": "markdown",
      "source": [
        "# **Prediction**"
      ],
      "metadata": {
        "id": "5wHgn58SO70Y"
      }
    },
    {
      "cell_type": "code",
      "source": [
        "print(train_generator.class_indices)"
      ],
      "metadata": {
        "colab": {
          "base_uri": "https://localhost:8080/"
        },
        "id": "vPw83AEODYK5",
        "outputId": "87127a54-1a72-485c-f8e4-07d99a26b7ab"
      },
      "execution_count": null,
      "outputs": [
        {
          "output_type": "stream",
          "name": "stdout",
          "text": [
            "{'bully': 0, 'nonbully': 1}\n"
          ]
        }
      ]
    },
    {
      "cell_type": "code",
      "source": [
        "# Function to load and preprocess the image   #4622\n",
        "def load_and_preprocess_image(img_path):\n",
        "    img = image.load_img(img_path, target_size=(224, 224))  # VGG16 expects 224x224 images\n",
        "    img_array = image.img_to_array(img)\n",
        "    img_array = np.expand_dims(img_array, axis=0)  # Add batch dimension\n",
        "    img_array /= 255.0  # Normalize the image to [0, 1] range\n",
        "    return img_array\n",
        "\n",
        "# Path to your image\n",
        "img_path = '/content/drive/MyDrive/test/nonbully/2415.jpg'  # Update with the path to your image\n",
        "\n",
        "# Preprocess the image\n",
        "img_array = load_and_preprocess_image(img_path)\n",
        "\n",
        "# Make prediction\n",
        "prediction = model.predict(img_array)\n",
        "\n",
        "# Interpret the result\n",
        "if prediction[0] < 0.5:\n",
        "    print(\"Predicted: Bully\")\n",
        "else:\n",
        "    print(\"Predicted: Non-Bully\")\n"
      ],
      "metadata": {
        "colab": {
          "base_uri": "https://localhost:8080/"
        },
        "id": "NPh1fCmnDQ0e",
        "outputId": "0bf7a3ef-11f3-4753-dad3-6a9013f32c50"
      },
      "execution_count": null,
      "outputs": [
        {
          "output_type": "stream",
          "name": "stdout",
          "text": [
            "\u001b[1m1/1\u001b[0m \u001b[32m━━━━━━━━━━━━━━━━━━━━\u001b[0m\u001b[37m\u001b[0m \u001b[1m0s\u001b[0m 27ms/step\n",
            "Predicted: Non-Bully\n"
          ]
        }
      ]
    },
    {
      "cell_type": "code",
      "source": [
        "import numpy as np\n",
        "from sklearn.metrics import confusion_matrix, classification_report, ConfusionMatrixDisplay\n",
        "import tensorflow as tf\n",
        "\n",
        "# Load the saved model\n",
        "model_path = '/content/drive/MyDrive/FINAL VGG16.keras'\n",
        "model = tf.keras.models.load_model(model_path)\n",
        "\n",
        "# Ensure the test generator is defined (as in your code)\n",
        "test_generator.reset()  # Reset generator to align predictions with labels\n",
        "\n",
        "# Predict on the test data\n",
        "predictions = model.predict(test_generator)\n",
        "predicted_classes = (predictions > 0.5).astype(int).flatten()  # Convert probabilities to binary predictions\n",
        "true_classes = test_generator.classes  # True labels\n",
        "class_labels = list(test_generator.class_indices.keys())  # Class names\n",
        "\n",
        "# Generate confusion matrix\n",
        "cm = confusion_matrix(true_classes, predicted_classes)\n",
        "\n",
        "# Display confusion matrix\n",
        "cmd = ConfusionMatrixDisplay(confusion_matrix=cm, display_labels=class_labels)\n",
        "cmd.plot(cmap='Blues', values_format='d')\n",
        "cmd.ax_.set_title('Confusion Matrix')\n",
        "cmd.ax_.set_xlabel('Predicted Labels')\n",
        "cmd.ax_.set_ylabel('True Labels')\n",
        "\n",
        "# Print classification report for additional metrics\n",
        "print(\"Classification Report:\")\n",
        "print(classification_report(true_classes, predicted_classes, target_names=class_labels))\n"
      ],
      "metadata": {
        "colab": {
          "base_uri": "https://localhost:8080/",
          "height": 718
        },
        "id": "o7odqoplMiH_",
        "outputId": "c1c9d86e-3162-4125-9360-9395d9a719b6"
      },
      "execution_count": null,
      "outputs": [
        {
          "output_type": "stream",
          "name": "stderr",
          "text": [
            "/usr/local/lib/python3.10/dist-packages/keras/src/trainers/data_adapters/py_dataset_adapter.py:122: UserWarning: Your `PyDataset` class should call `super().__init__(**kwargs)` in its constructor. `**kwargs` can include `workers`, `use_multiprocessing`, `max_queue_size`. Do not pass these arguments to `fit()`, as they will be ignored.\n",
            "  self._warn_if_super_not_called()\n"
          ]
        },
        {
          "output_type": "stream",
          "name": "stdout",
          "text": [
            "\u001b[1m37/37\u001b[0m \u001b[32m━━━━━━━━━━━━━━━━━━━━\u001b[0m\u001b[37m\u001b[0m \u001b[1m272s\u001b[0m 7s/step\n",
            "Classification Report:\n",
            "              precision    recall  f1-score   support\n",
            "\n",
            "       bully       0.58      0.51      0.54       639\n",
            "    nonbully       0.47      0.54      0.50       521\n",
            "\n",
            "    accuracy                           0.52      1160\n",
            "   macro avg       0.52      0.52      0.52      1160\n",
            "weighted avg       0.53      0.52      0.52      1160\n",
            "\n"
          ]
        },
        {
          "output_type": "display_data",
          "data": {
            "text/plain": [
              "<Figure size 640x480 with 2 Axes>"
            ],
            "image/png": "[encoded data removed]"
          },
          "metadata": {}
        }
      ]
    }
  ]
}